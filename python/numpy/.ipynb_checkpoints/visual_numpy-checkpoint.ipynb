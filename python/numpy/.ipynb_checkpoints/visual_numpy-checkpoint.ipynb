{
 "cells": [
  {
   "cell_type": "markdown",
   "id": "c9c64ba6",
   "metadata": {},
   "source": [
    "> References:   \n",
    "> 1. [A Visual Intro to NumPy and Data Representation](https://jalammar.github.io/visual-numpy/)  \n",
    "> 1. [机器学习入门--这可能python全网最好的numpy教程了](https://zhuanlan.zhihu.com/p/81815234)"
   ]
  },
  {
   "cell_type": "markdown",
   "id": "81435c96",
   "metadata": {},
   "source": [
    "# 1. import module"
   ]
  },
  {
   "cell_type": "code",
   "execution_count": 1,
   "id": "eea0ac4a",
   "metadata": {},
   "outputs": [],
   "source": [
    "import numpy as np"
   ]
  },
  {
   "cell_type": "markdown",
   "id": "1ef514e3",
   "metadata": {},
   "source": [
    "# 2. Arrays\n",
    "## Creating Arrays \n",
    "\n",
    "使用`np.array()`直接创建\n",
    "\n",
    "We can create a NumPy array (a.k.a. the mighty ndarray) by passing a python list to it and using ` np.array()`. In this case, python creates the array we can see on the right here:\n",
    "<!-- ![image.png](photo/1.png) -->\n",
    "<img style=\"float:center;\" src=\"./photo/1.png\" width = \"80%\">"
   ]
  },
  {
   "cell_type": "code",
   "execution_count": 5,
   "id": "a1083f8b",
   "metadata": {},
   "outputs": [
    {
     "data": {
      "text/plain": [
       "array([1, 2, 3])"
      ]
     },
     "execution_count": 5,
     "metadata": {},
     "output_type": "execute_result"
    }
   ],
   "source": [
    "data = np.array([1,2,3])\n",
    "data"
   ]
  },
  {
   "cell_type": "code",
   "execution_count": 6,
   "id": "d7642e48",
   "metadata": {},
   "outputs": [
    {
     "data": {
      "text/plain": [
       "3"
      ]
     },
     "execution_count": 6,
     "metadata": {},
     "output_type": "execute_result"
    }
   ],
   "source": [
    "data.max()"
   ]
  },
  {
   "cell_type": "markdown",
   "id": "1dc5a518",
   "metadata": {},
   "source": [
    "There are often cases when we want NumPy to initialize the values of the array for us. NumPy provides methods like ones(), zeros(), and random.random() for these cases. We just pass them the number of elements we want it to generate:\n",
    "<!-- ![image.png](attachment:image.png) -->\n",
    "<img style = 'float:center;' src='./photo/2.png' width = '80%'>\n",
    "Once we’ve created our arrays, we can start to manipulate them in interesting ways."
   ]
  },
  {
   "cell_type": "code",
   "execution_count": 5,
   "id": "3b74ea46",
   "metadata": {},
   "outputs": [
    {
     "data": {
      "text/plain": [
       "array([1., 1., 1.])"
      ]
     },
     "execution_count": 5,
     "metadata": {},
     "output_type": "execute_result"
    }
   ],
   "source": [
    "data2 = np.ones(3)\n",
    "data3 = np.zeros(3)\n",
    "data4 = np.random.random(3)\n",
    "data2"
   ]
  },
  {
   "cell_type": "code",
   "execution_count": 6,
   "id": "52067063",
   "metadata": {},
   "outputs": [
    {
     "data": {
      "text/plain": [
       "array([0., 0., 0.])"
      ]
     },
     "execution_count": 6,
     "metadata": {},
     "output_type": "execute_result"
    }
   ],
   "source": [
    "data3"
   ]
  },
  {
   "cell_type": "code",
   "execution_count": 10,
   "id": "ae2b9fb5",
   "metadata": {},
   "outputs": [
    {
     "data": {
      "text/plain": [
       "array([0.34299676, 0.51231586, 0.86517182])"
      ]
     },
     "execution_count": 10,
     "metadata": {},
     "output_type": "execute_result"
    }
   ],
   "source": [
    "data4"
   ]
  },
  {
   "cell_type": "markdown",
   "id": "bbef471c",
   "metadata": {},
   "source": [
    "## Array Arithmetic\n",
    "Let’s create two NumPy arrays to showcase their usefulness. We’ll call them data and ones:\n",
    "<!-- ![image.png](attachment:image.png) -->\n",
    "<img style = 'float:center;' src='./photo/3.png' width = '80%'>  \n",
    "\n",
    "Adding them up position-wise (i.e. adding the values of each row) is as simple as typing data + ones:\n",
    "<!-- ![image-2.png](attachment:image-2.png) -->\n",
    "<img style = 'float:center;' src='./photo/4.png' width = '80%'>"
   ]
  },
  {
   "cell_type": "code",
   "execution_count": 11,
   "id": "bc1a3d94",
   "metadata": {},
   "outputs": [],
   "source": [
    "data = np.array([1,2])\n",
    "ones = np.ones(2)"
   ]
  },
  {
   "cell_type": "code",
   "execution_count": 12,
   "id": "cc6183c5",
   "metadata": {},
   "outputs": [
    {
     "data": {
      "text/plain": [
       "array([2., 3.])"
      ]
     },
     "execution_count": 12,
     "metadata": {},
     "output_type": "execute_result"
    }
   ],
   "source": [
    "data + ones"
   ]
  },
  {
   "cell_type": "markdown",
   "id": "be946c7b",
   "metadata": {},
   "source": [
    "When I started learning such tools, I found it refreshing that an abstraction like this makes me not have to program such a calculation in loops. It’s a wonderful abstraction that allows you to think about problems at a higher level.\n",
    "\n",
    "And it’s not only addition that we can do this way:\n",
    "<!-- ![image.png](attachment:image.png) -->\n",
    "<img style = 'float:center;' src='./photo/5.png' width = '80%'>"
   ]
  },
  {
   "cell_type": "code",
   "execution_count": 13,
   "id": "37c351ad",
   "metadata": {},
   "outputs": [
    {
     "data": {
      "text/plain": [
       "array([0., 1.])"
      ]
     },
     "execution_count": 13,
     "metadata": {},
     "output_type": "execute_result"
    }
   ],
   "source": [
    "data - ones"
   ]
  },
  {
   "cell_type": "code",
   "execution_count": 15,
   "id": "dbfbb175",
   "metadata": {},
   "outputs": [
    {
     "data": {
      "text/plain": [
       "array([1, 4])"
      ]
     },
     "execution_count": 15,
     "metadata": {},
     "output_type": "execute_result"
    }
   ],
   "source": [
    "data * data"
   ]
  },
  {
   "cell_type": "code",
   "execution_count": 16,
   "id": "b864c772",
   "metadata": {},
   "outputs": [
    {
     "data": {
      "text/plain": [
       "array([1., 1.])"
      ]
     },
     "execution_count": 16,
     "metadata": {},
     "output_type": "execute_result"
    }
   ],
   "source": [
    "data / data"
   ]
  },
  {
   "cell_type": "markdown",
   "id": "c20b11d7",
   "metadata": {},
   "source": [
    "There are often cases when we want to carry out an operation between an array and a single number (we can also call this an operation between a vector and a scalar). Say, for example, our array represents distance in miles, and we want to convert it to kilometers. We simply say data * 1.6:\n",
    "<!-- ![image.png](attachment:image.png) -->\n",
    "<img style = 'float:center;' src='./photo/6.png' width = '80%'>\n",
    "See how NumPy understood that operation to mean that the multiplication should happen with each cell? That concept is called broadcasting, and it’s very useful."
   ]
  },
  {
   "cell_type": "code",
   "execution_count": 17,
   "id": "64f7d2fb",
   "metadata": {},
   "outputs": [
    {
     "data": {
      "text/plain": [
       "array([1.6, 3.2])"
      ]
     },
     "execution_count": 17,
     "metadata": {},
     "output_type": "execute_result"
    }
   ],
   "source": [
    "data *1.6"
   ]
  },
  {
   "cell_type": "markdown",
   "id": "3ae2fd11",
   "metadata": {},
   "source": [
    "## Indexing\n",
    "We can index and slice NumPy arrays in all the ways we can slice python lists:\n",
    "<!-- ![image.png](attachment:image.png) -->\n",
    "<img style = 'float:center;' src='./photo/7.png' width = '80%'>"
   ]
  },
  {
   "cell_type": "code",
   "execution_count": 23,
   "id": "37292408",
   "metadata": {},
   "outputs": [
    {
     "data": {
      "text/plain": [
       "1"
      ]
     },
     "execution_count": 23,
     "metadata": {},
     "output_type": "execute_result"
    }
   ],
   "source": [
    "data = np.array([1,2,3])\n",
    "data[0]"
   ]
  },
  {
   "cell_type": "code",
   "execution_count": 24,
   "id": "e7296e35",
   "metadata": {},
   "outputs": [
    {
     "data": {
      "text/plain": [
       "array([1, 2, 3])"
      ]
     },
     "execution_count": 24,
     "metadata": {},
     "output_type": "execute_result"
    }
   ],
   "source": [
    "data[0:3]"
   ]
  },
  {
   "cell_type": "markdown",
   "id": "ccdfb9b3",
   "metadata": {},
   "source": [
    "## Aggregation\n",
    "Additional benefits NumPy gives us aggregation functions:\n",
    "<!-- ![image.png](attachment:image.png) -->\n",
    "<img style = 'float:center;' src='./photo/8.png' width = '80%'>"
   ]
  },
  {
   "cell_type": "code",
   "execution_count": 27,
   "id": "fcca76af",
   "metadata": {},
   "outputs": [
    {
     "data": {
      "text/plain": [
       "3"
      ]
     },
     "execution_count": 27,
     "metadata": {},
     "output_type": "execute_result"
    }
   ],
   "source": [
    "data.max()\n",
    "# data.sum()"
   ]
  },
  {
   "cell_type": "markdown",
   "id": "aa7f8b2a",
   "metadata": {},
   "source": [
    "# Matrices\n",
    "## Creating Matices\n",
    "\n",
    "We can pass python lists of lists in the following shape to have NumPy create a matrix to represent them:\n",
    "<!-- ![image.png](attachment:image.png) -->\n",
    "<img style = 'float:center;' src='./photo/9.png' width = '80%'>"
   ]
  },
  {
   "cell_type": "code",
   "execution_count": 28,
   "id": "b91cf952",
   "metadata": {},
   "outputs": [
    {
     "data": {
      "text/plain": [
       "array([[1, 2],\n",
       "       [3, 4]])"
      ]
     },
     "execution_count": 28,
     "metadata": {},
     "output_type": "execute_result"
    }
   ],
   "source": [
    "np.array([[1,2],[3,4]])"
   ]
  },
  {
   "cell_type": "markdown",
   "id": "305388d7",
   "metadata": {},
   "source": [
    "We can also use the same methods we mentioned above (, , and ) as long as we give them a tuple describing the dimensions of the matrix we are creating:\n",
    "`ones()zeros()random.random()`\n",
    "<!-- ![image.png](attachment:image.png) -->\n",
    "<img style = 'float:center;' src='./photo/10.png' width = '80%'>"
   ]
  },
  {
   "cell_type": "code",
   "execution_count": 29,
   "id": "e94106c5",
   "metadata": {},
   "outputs": [
    {
     "data": {
      "text/plain": [
       "array([[1., 1.],\n",
       "       [1., 1.],\n",
       "       [1., 1.]])"
      ]
     },
     "execution_count": 29,
     "metadata": {},
     "output_type": "execute_result"
    }
   ],
   "source": [
    "np.ones((3,2))"
   ]
  },
  {
   "cell_type": "code",
   "execution_count": null,
   "id": "dfc5c3b5",
   "metadata": {},
   "outputs": [],
   "source": []
  }
 ],
 "metadata": {
  "kernelspec": {
   "display_name": "Python 3",
   "language": "python",
   "name": "python3"
  },
  "language_info": {
   "codemirror_mode": {
    "name": "ipython",
    "version": 3
   },
   "file_extension": ".py",
   "mimetype": "text/x-python",
   "name": "python",
   "nbconvert_exporter": "python",
   "pygments_lexer": "ipython3",
   "version": "3.6.2"
  }
 },
 "nbformat": 4,
 "nbformat_minor": 5
}
